{
 "cells": [
  {
   "cell_type": "code",
   "execution_count": 1,
   "metadata": {},
   "outputs": [
    {
     "data": {
      "text/plain": [
       "(22, 22)"
      ]
     },
     "execution_count": 1,
     "metadata": {},
     "output_type": "execute_result"
    }
   ],
   "source": [
    "import pandas as pd\n",
    "urls = ['piratesbay','skullsisland','soulsrift','lostislands','northernlands','easternseas','packages','heroes','others']\n",
    "\n",
    "headingList = ['Randomness', 'Health restore','Rage','Attack restore','Reload', 'Defense restore', 'Reactive',\n",
    "               'Hand and ammo', 'Card draw', 'Hp buffs', 'Attack buffs', 'Ammo cost', 'Drunk',\n",
    "               'Mark', 'Curse interaction', 'Cost', 'Card deliver', 'Crit', 'Evasion', 'Bad status',\n",
    "               'Per card scaling', 'Shop']\n",
    "rawList = ['random',\n",
    "'heal|revive|lifesteal',\n",
    "'rage',\n",
    "'upgrade|add',\n",
    "'reload to max|reload',\n",
    "'armor|immunity|immune',\n",
    "'if|whenever|instead of|when|also|at the end of your turn|for each|at least|per charge spent',\n",
    "'hand size|ammo',\n",
    "'draw',\n",
    "'max hp',\n",
    "'damage',\n",
    "'ammo cost',\n",
    "'drunk',\n",
    "'mark',\n",
    "'curse',\n",
    "'lose all|but|can only|cannot be removed|tentacle bind|\\-',\n",
    "'endure|artisan\\'s blessing|add a catch',\n",
    "'critical hit|critical',\n",
    "'dodge|stun',\n",
    "'weakened|mark|injury|fragile|deathrattle|overload|negative conditions',\n",
    "'for each card',\n",
    "'sell price|discount']\n",
    "\n",
    "dataframeList = []\n",
    "for urlTail in urls:\n",
    "    df = pd.read_csv('pirates_outlaws_'+urlTail+'.csv')\n",
    "    for i in range(len(rawList)):\n",
    "        patsy = '^.*?('+rawList[i]+').*?$'\n",
    "        df[headingList[i]] = df['Effect'].str.match(patsy)\n",
    "    df['Map'] = urlTail\n",
    "    dataframeList.append(df)\n",
    "finalFrame = pd.concat(dataframeList)\n",
    "\n",
    "csv_file = open('all_relics.csv','w')\n",
    "csv_file.write(finalFrame.to_csv())\n",
    "csv_file.close()\n",
    "\n",
    "len(headingList),len(rawList)"
   ]
  },
  {
   "cell_type": "code",
   "execution_count": null,
   "metadata": {},
   "outputs": [],
   "source": []
  }
 ],
 "metadata": {
  "kernelspec": {
   "display_name": "Python 3",
   "language": "python",
   "name": "python3"
  },
  "language_info": {
   "codemirror_mode": {
    "name": "ipython",
    "version": 3
   },
   "file_extension": ".py",
   "mimetype": "text/x-python",
   "name": "python",
   "nbconvert_exporter": "python",
   "pygments_lexer": "ipython3",
   "version": "3.6.4"
  }
 },
 "nbformat": 4,
 "nbformat_minor": 2
}
