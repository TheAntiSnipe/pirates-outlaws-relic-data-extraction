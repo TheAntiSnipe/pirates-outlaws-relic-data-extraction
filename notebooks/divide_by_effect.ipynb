{
 "cells": [
  {
   "cell_type": "code",
   "execution_count": 5,
   "metadata": {},
   "outputs": [],
   "source": [
    "import pandas as pd\n",
    "\n",
    "df = pd.read_csv('all_relics.csv')\n",
    "headingList = ['Randomness', 'Health restore','Rage','Attack restore','Reload', 'Defense restore', 'Reactive',\n",
    "               'Hand and ammo', 'Card draw', 'Hp buffs', 'Attack buffs', 'Ammo cost', 'Drunk',\n",
    "               'Mark', 'Curse interaction', 'Cost', 'Card deliver', 'Crit', 'Evasion', 'Bad status',\n",
    "               'Per card scaling', 'Shop']\n",
    "\n",
    "dataframeList = []\n",
    "for i in headingList:\n",
    "    patsydf = df.loc[df[i] == True]\n",
    "    dataframeList.append(patsydf[['Name','Effect','Map']])\n",
    "\n",
    "for i in range(len(dataframeList)):\n",
    "    file = open('relics_with_'+headingList[i]+'.csv','w')\n",
    "    file.write(dataframeList[i].to_csv(index=False))\n",
    "    file.close()\n",
    "    "
   ]
  },
  {
   "cell_type": "code",
   "execution_count": null,
   "metadata": {},
   "outputs": [],
   "source": []
  }
 ],
 "metadata": {
  "kernelspec": {
   "display_name": "Python 3",
   "language": "python",
   "name": "python3"
  },
  "language_info": {
   "codemirror_mode": {
    "name": "ipython",
    "version": 3
   },
   "file_extension": ".py",
   "mimetype": "text/x-python",
   "name": "python",
   "nbconvert_exporter": "python",
   "pygments_lexer": "ipython3",
   "version": "3.6.4"
  }
 },
 "nbformat": 4,
 "nbformat_minor": 2
}
