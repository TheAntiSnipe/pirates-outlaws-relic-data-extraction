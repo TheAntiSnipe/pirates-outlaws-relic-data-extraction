{
 "cells": [
  {
   "cell_type": "code",
   "execution_count": 3,
   "metadata": {},
   "outputs": [],
   "source": [
    "import requests\n",
    "from urllib.request import urlopen\n",
    "from lxml import etree\n",
    "import re\n",
    "import pandas as pd\n",
    "import csv\n"
   ]
  },
  {
   "cell_type": "code",
   "execution_count": 32,
   "metadata": {},
   "outputs": [],
   "source": [
    "baseURL = 'https://fabledgame.com/wiki/piratesoutlaws/relics/'\n",
    "urls = ['piratesbay','skullsisland','soulsrift','lostislands','northernlands','easternseas','packages','heroes','others']\n",
    "headers = {'Content-Type': 'text/html',}\n",
    "for urlTail in urls:\n",
    "    finalURL = baseURL+urlTail\n",
    "    response = requests.get(finalURL, headers=headers)\n",
    "    html = response.text.encode('utf-8')\n",
    "    with open ('fabled_test_'+urlTail, 'wb') as f:\n",
    "        f.write(html)"
   ]
  },
  {
   "cell_type": "code",
   "execution_count": 4,
   "metadata": {},
   "outputs": [],
   "source": [
    "    \n",
    "# read local html file and set up lxml html parser\n",
    "urls = ['piratesbay','skullsisland','soulsrift','lostislands','northernlands','easternseas','packages','heroes','others']\n",
    "baseURL = 'file:///C:/Users/user/Documents/PO%20data%20extraction/fabled_test_'\n",
    "listOfRelics = [[] for i in range(9)]\n",
    "listOfEffects = [[] for i in range(9)]\n",
    "mapCount = 0\n",
    "\n",
    "for urlTail in urls:\n",
    "        local = baseURL+urlTail\n",
    "        response = urlopen(local)\n",
    "        htmlparser = etree.HTMLParser()\n",
    "        tree = etree.parse(response, htmlparser)\n",
    "        listOfEffects[mapCount] = tree.xpath('//p/text()')\n",
    "        listOfRelics[mapCount] = tree.xpath('//strong/text()')\n",
    "\n",
    "        formattedListOfEffects=[]\n",
    "        for i in listOfEffects[mapCount]:\n",
    "            a = re.sub('\\t','',i)\n",
    "            #formattedListOfEffects.remove('©2020 FABLED GAME STUDIO')\n",
    "            if(re.findall('[A-Za-z]',a)):\n",
    "                b = a.lower()\n",
    "                formattedListOfEffects.append(b)\n",
    "        listOfEffects[mapCount] = formattedListOfEffects\n",
    "\n",
    "        formattedListOfRelics = []\n",
    "        for i in listOfRelics[mapCount]:\n",
    "            a = re.sub('\\t','',i)\n",
    "            formattedListOfRelics.append(a)\n",
    "        listOfRelics[mapCount] = formattedListOfRelics\n",
    "        mapCount+=1"
   ]
  },
  {
   "cell_type": "code",
   "execution_count": 5,
   "metadata": {},
   "outputs": [],
   "source": [
    "listOfEffects[8] = []\n",
    "listOfEffects[8].extend(['at the end of your turn, reload to max, lose 5 hp for each ammo reloaded in this way. can\\'t be removed.',\n",
    "                        'at the end of your turn, reload 1 if you are not at max ammo. remaining: 25 Ammo.',\n",
    "                        'event item',\n",
    "                        'upgrade your deck at the start of the next 3 battles.',\n",
    "                        'get 2 Drunk at the start of the next 3 battles.',\n",
    "                        'get gold if you defeat the current stage\\'s boss',\n",
    "                        'event item'])"
   ]
  },
  {
   "cell_type": "code",
   "execution_count": 6,
   "metadata": {},
   "outputs": [],
   "source": [
    "mapCount = 0\n",
    "for urlTail in urls:\n",
    "    dictionary = dict(zip(listOfRelics[mapCount],listOfEffects[mapCount]))\n",
    "    file = open('pirates_outlaws_'+urlTail+'.csv','w')\n",
    "    writer = csv.writer(file)\n",
    "    writer.writerow(['Name', 'Effect'])\n",
    "    for key, value in dictionary.items():\n",
    "        writer.writerow([key, value])\n",
    "    file.close()\n",
    "    mapCount+=1"
   ]
  },
  {
   "cell_type": "code",
   "execution_count": 33,
   "metadata": {},
   "outputs": [
    {
     "ename": "IndentationError",
     "evalue": "unexpected indent (<ipython-input-33-6f0767d71acc>, line 3)",
     "output_type": "error",
     "traceback": [
      "\u001b[1;36m  File \u001b[1;32m\"<ipython-input-33-6f0767d71acc>\"\u001b[1;36m, line \u001b[1;32m3\u001b[0m\n\u001b[1;33m    html = response.text.encode('utf-8')\u001b[0m\n\u001b[1;37m    ^\u001b[0m\n\u001b[1;31mIndentationError\u001b[0m\u001b[1;31m:\u001b[0m unexpected indent\n"
     ]
    }
   ],
   "source": [
    "urlTail = 'heroes'\n",
    "response = requests.get(finalURL, headers=headers)\n",
    "html = response.text.encode('utf-8')\n",
    "with open ('fabled_test_'+urlTail, 'wb') as f:\n",
    "        f.write(html)"
   ]
  },
  {
   "cell_type": "code",
   "execution_count": null,
   "metadata": {},
   "outputs": [],
   "source": []
  }
 ],
 "metadata": {
  "kernelspec": {
   "display_name": "Python 3",
   "language": "python",
   "name": "python3"
  },
  "language_info": {
   "codemirror_mode": {
    "name": "ipython",
    "version": 3
   },
   "file_extension": ".py",
   "mimetype": "text/x-python",
   "name": "python",
   "nbconvert_exporter": "python",
   "pygments_lexer": "ipython3",
   "version": "3.6.4"
  }
 },
 "nbformat": 4,
 "nbformat_minor": 4
}
